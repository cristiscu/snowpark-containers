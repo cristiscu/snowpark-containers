{
 "cells": [
  {
   "cell_type": "code",
   "execution_count": null,
   "metadata": {},
   "outputs": [],
   "source": [
    "from snowflake.snowpark import Session\n",
    "session = Session.builder.configs({\n",
    "\t  \"account\": ...,\n",
    "\t  \"user\": ...,\n",
    "\t  \"password\": ...\n",
    "}).create()"
   ]
  },
  {
   "cell_type": "code",
   "execution_count": null,
   "metadata": {},
   "outputs": [],
   "source": [
    "df = session.table(\"test.public.diamonds\")\n",
    "df"
   ]
  },
  {
   "cell_type": "code",
   "execution_count": null,
   "metadata": {},
   "outputs": [],
   "source": [
    "\n",
    "from snowflake.ml.modeling.xgboost import XGBRegressor\n",
    "model = XGBRegressor(\n",
    "    max_depth=400,\n",
    "    input_cols=[\"CARAT\", \"DEPTH\", \"X\", \"Y\", \"Z\"],\n",
    "    label_cols=['PRICE'])"
   ]
  },
  {
   "cell_type": "code",
   "execution_count": null,
   "metadata": {},
   "outputs": [],
   "source": [
    "model.fit(df)\n",
    "df"
   ]
  }
 ],
 "metadata": {
  "kernelspec": {
   "display_name": "Python 3",
   "language": "python",
   "name": "python3"
  },
  "language_info": {
   "name": "python",
   "version": "3.9.6"
  }
 },
 "nbformat": 4,
 "nbformat_minor": 2
}
